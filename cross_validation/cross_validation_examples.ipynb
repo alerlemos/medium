{
 "cells": [
  {
   "cell_type": "markdown",
   "id": "fifth-labor",
   "metadata": {},
   "source": [
    "# Initializing\n",
    "\n",
    "## Libraries"
   ]
  },
  {
   "cell_type": "code",
   "execution_count": 1,
   "id": "level-native",
   "metadata": {
    "ExecuteTime": {
     "end_time": "2022-04-14T00:39:53.819005Z",
     "start_time": "2022-04-14T00:39:53.134778Z"
    }
   },
   "outputs": [],
   "source": [
    "# Utilities\n",
    "import pandas as pd\n",
    "import time\n",
    "import numpy as np\n",
    "\n",
    "# Cross-Validation Techniques\n",
    "from sklearn.model_selection import train_test_split, KFold, LeaveOneOut\n",
    "\n",
    "# Model used\n",
    "from sklearn.tree import DecisionTreeClassifier\n",
    "\n",
    "# Metric used (Accuracy)\n",
    "from sklearn.metrics import accuracy_score\n",
    "\n",
    "# Dataset used\n",
    "from sklearn.datasets import load_breast_cancer"
   ]
  },
  {
   "cell_type": "markdown",
   "id": "isolated-spank",
   "metadata": {},
   "source": [
    "## Loading the data"
   ]
  },
  {
   "cell_type": "code",
   "execution_count": 2,
   "id": "sublime-holiday",
   "metadata": {
    "ExecuteTime": {
     "end_time": "2022-04-14T00:39:53.849411Z",
     "start_time": "2022-04-14T00:39:53.821005Z"
    }
   },
   "outputs": [
    {
     "name": "stdout",
     "output_type": "stream",
     "text": [
      "Shape of the data: (569, 30)\n"
     ]
    }
   ],
   "source": [
    "# Loading the data\n",
    "data_wdbc = load_breast_cancer()\n",
    "\n",
    "# Creating the dataframe with the features\n",
    "X = pd.DataFrame(data = data_wdbc.data, columns = data_wdbc.feature_names)\n",
    "\n",
    "# Defining the target\n",
    "y = data_wdbc.target\n",
    "\n",
    "print('Shape of the data:', X.shape)"
   ]
  },
  {
   "cell_type": "code",
   "execution_count": 3,
   "id": "weighted-poland",
   "metadata": {
    "ExecuteTime": {
     "end_time": "2022-04-14T00:39:53.881492Z",
     "start_time": "2022-04-14T00:39:53.851416Z"
    },
    "scrolled": true
   },
   "outputs": [
    {
     "data": {
      "text/html": [
       "<div>\n",
       "<style scoped>\n",
       "    .dataframe tbody tr th:only-of-type {\n",
       "        vertical-align: middle;\n",
       "    }\n",
       "\n",
       "    .dataframe tbody tr th {\n",
       "        vertical-align: top;\n",
       "    }\n",
       "\n",
       "    .dataframe thead th {\n",
       "        text-align: right;\n",
       "    }\n",
       "</style>\n",
       "<table border=\"1\" class=\"dataframe\">\n",
       "  <thead>\n",
       "    <tr style=\"text-align: right;\">\n",
       "      <th></th>\n",
       "      <th>mean radius</th>\n",
       "      <th>mean texture</th>\n",
       "      <th>mean perimeter</th>\n",
       "      <th>mean area</th>\n",
       "      <th>mean smoothness</th>\n",
       "      <th>mean compactness</th>\n",
       "      <th>mean concavity</th>\n",
       "      <th>mean concave points</th>\n",
       "      <th>mean symmetry</th>\n",
       "      <th>mean fractal dimension</th>\n",
       "      <th>...</th>\n",
       "      <th>worst radius</th>\n",
       "      <th>worst texture</th>\n",
       "      <th>worst perimeter</th>\n",
       "      <th>worst area</th>\n",
       "      <th>worst smoothness</th>\n",
       "      <th>worst compactness</th>\n",
       "      <th>worst concavity</th>\n",
       "      <th>worst concave points</th>\n",
       "      <th>worst symmetry</th>\n",
       "      <th>worst fractal dimension</th>\n",
       "    </tr>\n",
       "  </thead>\n",
       "  <tbody>\n",
       "    <tr>\n",
       "      <th>0</th>\n",
       "      <td>17.99</td>\n",
       "      <td>10.38</td>\n",
       "      <td>122.80</td>\n",
       "      <td>1001.0</td>\n",
       "      <td>0.11840</td>\n",
       "      <td>0.27760</td>\n",
       "      <td>0.3001</td>\n",
       "      <td>0.14710</td>\n",
       "      <td>0.2419</td>\n",
       "      <td>0.07871</td>\n",
       "      <td>...</td>\n",
       "      <td>25.38</td>\n",
       "      <td>17.33</td>\n",
       "      <td>184.60</td>\n",
       "      <td>2019.0</td>\n",
       "      <td>0.1622</td>\n",
       "      <td>0.6656</td>\n",
       "      <td>0.7119</td>\n",
       "      <td>0.2654</td>\n",
       "      <td>0.4601</td>\n",
       "      <td>0.11890</td>\n",
       "    </tr>\n",
       "    <tr>\n",
       "      <th>1</th>\n",
       "      <td>20.57</td>\n",
       "      <td>17.77</td>\n",
       "      <td>132.90</td>\n",
       "      <td>1326.0</td>\n",
       "      <td>0.08474</td>\n",
       "      <td>0.07864</td>\n",
       "      <td>0.0869</td>\n",
       "      <td>0.07017</td>\n",
       "      <td>0.1812</td>\n",
       "      <td>0.05667</td>\n",
       "      <td>...</td>\n",
       "      <td>24.99</td>\n",
       "      <td>23.41</td>\n",
       "      <td>158.80</td>\n",
       "      <td>1956.0</td>\n",
       "      <td>0.1238</td>\n",
       "      <td>0.1866</td>\n",
       "      <td>0.2416</td>\n",
       "      <td>0.1860</td>\n",
       "      <td>0.2750</td>\n",
       "      <td>0.08902</td>\n",
       "    </tr>\n",
       "    <tr>\n",
       "      <th>2</th>\n",
       "      <td>19.69</td>\n",
       "      <td>21.25</td>\n",
       "      <td>130.00</td>\n",
       "      <td>1203.0</td>\n",
       "      <td>0.10960</td>\n",
       "      <td>0.15990</td>\n",
       "      <td>0.1974</td>\n",
       "      <td>0.12790</td>\n",
       "      <td>0.2069</td>\n",
       "      <td>0.05999</td>\n",
       "      <td>...</td>\n",
       "      <td>23.57</td>\n",
       "      <td>25.53</td>\n",
       "      <td>152.50</td>\n",
       "      <td>1709.0</td>\n",
       "      <td>0.1444</td>\n",
       "      <td>0.4245</td>\n",
       "      <td>0.4504</td>\n",
       "      <td>0.2430</td>\n",
       "      <td>0.3613</td>\n",
       "      <td>0.08758</td>\n",
       "    </tr>\n",
       "    <tr>\n",
       "      <th>3</th>\n",
       "      <td>11.42</td>\n",
       "      <td>20.38</td>\n",
       "      <td>77.58</td>\n",
       "      <td>386.1</td>\n",
       "      <td>0.14250</td>\n",
       "      <td>0.28390</td>\n",
       "      <td>0.2414</td>\n",
       "      <td>0.10520</td>\n",
       "      <td>0.2597</td>\n",
       "      <td>0.09744</td>\n",
       "      <td>...</td>\n",
       "      <td>14.91</td>\n",
       "      <td>26.50</td>\n",
       "      <td>98.87</td>\n",
       "      <td>567.7</td>\n",
       "      <td>0.2098</td>\n",
       "      <td>0.8663</td>\n",
       "      <td>0.6869</td>\n",
       "      <td>0.2575</td>\n",
       "      <td>0.6638</td>\n",
       "      <td>0.17300</td>\n",
       "    </tr>\n",
       "    <tr>\n",
       "      <th>4</th>\n",
       "      <td>20.29</td>\n",
       "      <td>14.34</td>\n",
       "      <td>135.10</td>\n",
       "      <td>1297.0</td>\n",
       "      <td>0.10030</td>\n",
       "      <td>0.13280</td>\n",
       "      <td>0.1980</td>\n",
       "      <td>0.10430</td>\n",
       "      <td>0.1809</td>\n",
       "      <td>0.05883</td>\n",
       "      <td>...</td>\n",
       "      <td>22.54</td>\n",
       "      <td>16.67</td>\n",
       "      <td>152.20</td>\n",
       "      <td>1575.0</td>\n",
       "      <td>0.1374</td>\n",
       "      <td>0.2050</td>\n",
       "      <td>0.4000</td>\n",
       "      <td>0.1625</td>\n",
       "      <td>0.2364</td>\n",
       "      <td>0.07678</td>\n",
       "    </tr>\n",
       "  </tbody>\n",
       "</table>\n",
       "<p>5 rows × 30 columns</p>\n",
       "</div>"
      ],
      "text/plain": [
       "   mean radius  mean texture  mean perimeter  mean area  mean smoothness  \\\n",
       "0        17.99         10.38          122.80     1001.0          0.11840   \n",
       "1        20.57         17.77          132.90     1326.0          0.08474   \n",
       "2        19.69         21.25          130.00     1203.0          0.10960   \n",
       "3        11.42         20.38           77.58      386.1          0.14250   \n",
       "4        20.29         14.34          135.10     1297.0          0.10030   \n",
       "\n",
       "   mean compactness  mean concavity  mean concave points  mean symmetry  \\\n",
       "0           0.27760          0.3001              0.14710         0.2419   \n",
       "1           0.07864          0.0869              0.07017         0.1812   \n",
       "2           0.15990          0.1974              0.12790         0.2069   \n",
       "3           0.28390          0.2414              0.10520         0.2597   \n",
       "4           0.13280          0.1980              0.10430         0.1809   \n",
       "\n",
       "   mean fractal dimension  ...  worst radius  worst texture  worst perimeter  \\\n",
       "0                 0.07871  ...         25.38          17.33           184.60   \n",
       "1                 0.05667  ...         24.99          23.41           158.80   \n",
       "2                 0.05999  ...         23.57          25.53           152.50   \n",
       "3                 0.09744  ...         14.91          26.50            98.87   \n",
       "4                 0.05883  ...         22.54          16.67           152.20   \n",
       "\n",
       "   worst area  worst smoothness  worst compactness  worst concavity  \\\n",
       "0      2019.0            0.1622             0.6656           0.7119   \n",
       "1      1956.0            0.1238             0.1866           0.2416   \n",
       "2      1709.0            0.1444             0.4245           0.4504   \n",
       "3       567.7            0.2098             0.8663           0.6869   \n",
       "4      1575.0            0.1374             0.2050           0.4000   \n",
       "\n",
       "   worst concave points  worst symmetry  worst fractal dimension  \n",
       "0                0.2654          0.4601                  0.11890  \n",
       "1                0.1860          0.2750                  0.08902  \n",
       "2                0.2430          0.3613                  0.08758  \n",
       "3                0.2575          0.6638                  0.17300  \n",
       "4                0.1625          0.2364                  0.07678  \n",
       "\n",
       "[5 rows x 30 columns]"
      ]
     },
     "execution_count": 3,
     "metadata": {},
     "output_type": "execute_result"
    }
   ],
   "source": [
    "X.head()"
   ]
  },
  {
   "cell_type": "markdown",
   "id": "favorite-sender",
   "metadata": {},
   "source": [
    "# Holdout Cross-Validation"
   ]
  },
  {
   "cell_type": "code",
   "execution_count": 4,
   "id": "through-waterproof",
   "metadata": {
    "ExecuteTime": {
     "end_time": "2022-04-14T00:39:53.896816Z",
     "start_time": "2022-04-14T00:39:53.883491Z"
    }
   },
   "outputs": [
    {
     "name": "stdout",
     "output_type": "stream",
     "text": [
      "Shape of the Training set: (398, 30)\n",
      "Shape of the Test set: (171, 30)\n"
     ]
    }
   ],
   "source": [
    "# Spliting the data\n",
    "X_train, X_test, y_train, y_test = train_test_split(X, y, test_size = 0.3)\n",
    "\n",
    "print('Shape of the Training set:', X_train.shape)\n",
    "print('Shape of the Test set:', X_test.shape)"
   ]
  },
  {
   "cell_type": "markdown",
   "id": "dramatic-tomorrow",
   "metadata": {},
   "source": [
    "# K-Fold Cross-Validation"
   ]
  },
  {
   "cell_type": "code",
   "execution_count": 5,
   "id": "potential-dallas",
   "metadata": {
    "ExecuteTime": {
     "end_time": "2022-04-14T00:39:53.911817Z",
     "start_time": "2022-04-14T00:39:53.897817Z"
    }
   },
   "outputs": [
    {
     "name": "stdout",
     "output_type": "stream",
     "text": [
      "First five train index: [190 191 192 193 194] First five test index: [0 1 2 3 4]\n",
      "Shape of the Training set: (379,) Shape of the Test set: (190,) \n",
      "\n",
      "First five train index: [0 1 2 3 4] First five test index: [190 191 192 193 194]\n",
      "Shape of the Training set: (379,) Shape of the Test set: (190,) \n",
      "\n",
      "First five train index: [0 1 2 3 4] First five test index: [380 381 382 383 384]\n",
      "Shape of the Training set: (380,) Shape of the Test set: (189,) \n",
      "\n"
     ]
    }
   ],
   "source": [
    "# Creating the K-Fold ojbect\n",
    "kf = KFold(n_splits = 3)\n",
    "\n",
    "# Performing the K-Fold Cross-Validation\n",
    "# Each split represents one subset\n",
    "for train_index, test_index in kf.split(X):\n",
    "    \n",
    "    # Obtaining the index for the training and test sets for the subset\n",
    "    print(\"First five train index:\", train_index[0:5], \"First five test index:\", test_index[0:5])\n",
    "    print('Shape of the Training set:', train_index.shape, 'Shape of the Test set:', test_index.shape, '\\n')"
   ]
  },
  {
   "cell_type": "markdown",
   "id": "powered-examination",
   "metadata": {},
   "source": [
    "# Leave-One-Out Cross-Validation"
   ]
  },
  {
   "cell_type": "code",
   "execution_count": 6,
   "id": "twenty-highlight",
   "metadata": {
    "ExecuteTime": {
     "end_time": "2022-04-14T00:39:53.927816Z",
     "start_time": "2022-04-14T00:39:53.912818Z"
    }
   },
   "outputs": [
    {
     "name": "stdout",
     "output_type": "stream",
     "text": [
      "First five train index: [1 2 3 4 5] Test index: [0]\n",
      "First five train index: [0 2 3 4 5] Test index: [1]\n",
      "First five train index: [0 1 3 4 5] Test index: [2]\n"
     ]
    }
   ],
   "source": [
    "# Creating the Leave-One-Out ojbect\n",
    "loo = LeaveOneOut()\n",
    "\n",
    "# Auxiliar variable to stop the prints\n",
    "break_aux = 0\n",
    "\n",
    "# Performing the Leave-One-Out Cross-Validation\n",
    "for train_index, test_index in loo.split(X):\n",
    "    \n",
    "    # Stop printing after the third iteraction\n",
    "    if break_aux < 3:\n",
    "        print(\"First five train index:\", train_index[0:5], \"Test index:\", test_index)\n",
    "        break_aux = break_aux + 1"
   ]
  },
  {
   "cell_type": "markdown",
   "id": "negative-zoning",
   "metadata": {},
   "source": [
    "# Classification Performance\n",
    "## Holdout CV"
   ]
  },
  {
   "cell_type": "code",
   "execution_count": 7,
   "id": "driven-yemen",
   "metadata": {
    "ExecuteTime": {
     "end_time": "2022-04-14T00:39:53.942816Z",
     "start_time": "2022-04-14T00:39:53.928819Z"
    }
   },
   "outputs": [
    {
     "name": "stdout",
     "output_type": "stream",
     "text": [
      "Accuracy obtained: 92.98245614035088\n",
      "Run Time: 0.009000539779663086\n"
     ]
    }
   ],
   "source": [
    "# Initializing the Decision Tree object with default parameters\n",
    "tree = DecisionTreeClassifier(random_state = 1234)\n",
    "\n",
    "# Calculating the run time\n",
    "holdout_start_time = time.time()\n",
    "\n",
    "# Spliting the data\n",
    "X_train, X_test, y_train, y_test = train_test_split(X, y, test_size = 0.3, random_state = 1234)\n",
    "\n",
    "# Training the classifier\n",
    "tree.fit(X_train, y_train)\n",
    "\n",
    "# Making the predictions\n",
    "y_pred = tree.predict(X_test)\n",
    "\n",
    "# Calculating the accuracy\n",
    "acc_holdout = accuracy_score(y_test, y_pred)\n",
    "\n",
    "holdout_performance_time = time.time() - holdout_start_time\n",
    "print('Accuracy obtained:', acc_holdout*100)\n",
    "print('Run Time:', holdout_performance_time)"
   ]
  },
  {
   "cell_type": "markdown",
   "id": "stunning-mayor",
   "metadata": {},
   "source": [
    "## 3-Fold CV"
   ]
  },
  {
   "cell_type": "code",
   "execution_count": 8,
   "id": "handled-parcel",
   "metadata": {
    "ExecuteTime": {
     "end_time": "2022-04-14T00:39:53.974903Z",
     "start_time": "2022-04-14T00:39:53.943817Z"
    }
   },
   "outputs": [
    {
     "name": "stdout",
     "output_type": "stream",
     "text": [
      "Accuracy obtained: 90.15408892601874\n",
      "Run Time: 0.014000654220581055\n"
     ]
    }
   ],
   "source": [
    "# Initializing the Decision Tree object with default parameters\n",
    "tree = DecisionTreeClassifier(random_state = 1234)\n",
    "\n",
    "# List to store the results\n",
    "acc_list = []\n",
    "\n",
    "# Calculating the run time\n",
    "kfold_start_time = time.time()\n",
    "\n",
    "# Creating the K-Fold ojbect\n",
    "kf = KFold(n_splits = 3)\n",
    "\n",
    "# Performing the K-Fold Cross-Validation\n",
    "# Each split represents one subset\n",
    "for train_index, test_index in kf.split(X):\n",
    "    \n",
    "    # Obtaining the training and test subsets\n",
    "    X_train, X_test = X.values[train_index], X.values[test_index]\n",
    "    y_train, y_test = y[train_index], y[test_index]\n",
    "    \n",
    "    # Training the model\n",
    "    tree.fit(X_train, y_train)\n",
    "    \n",
    "    # Making the predictions\n",
    "    y_pred = tree.predict(X_test)\n",
    "\n",
    "    # Calculating the accuracy\n",
    "    acc = accuracy_score(y_test, y_pred)\n",
    "    \n",
    "    # Saving the result in the list\n",
    "    acc_list.append(acc)\n",
    "    \n",
    "# Calculating the mean of the results\n",
    "acc_kfold = np.mean(acc_list)\n",
    "\n",
    "kfold_performance_time = time.time() - kfold_start_time\n",
    "print('Accuracy obtained:', acc_kfold*100)\n",
    "print('Run Time:', kfold_performance_time)"
   ]
  },
  {
   "cell_type": "markdown",
   "id": "stopped-connection",
   "metadata": {},
   "source": [
    "## Leave-One-Out CV"
   ]
  },
  {
   "cell_type": "code",
   "execution_count": 9,
   "id": "valid-invention",
   "metadata": {
    "ExecuteTime": {
     "end_time": "2022-04-14T00:39:57.437799Z",
     "start_time": "2022-04-14T00:39:53.976903Z"
    },
    "scrolled": true
   },
   "outputs": [
    {
     "name": "stdout",
     "output_type": "stream",
     "text": [
      "Accuracy obtained: 91.56414762741653\n",
      "Run Time: 3.4548919200897217\n"
     ]
    }
   ],
   "source": [
    "# Initializing the Decision Tree object with default parameters\n",
    "tree = DecisionTreeClassifier(random_state = 1234)\n",
    "\n",
    "# List to store the results\n",
    "acc_list = []\n",
    "\n",
    "# Calculating the run time\n",
    "loo_start_time = time.time()\n",
    "\n",
    "# Performing the Leave-One-Out Cross-Validation\n",
    "for train_index, test_index in loo.split(X):\n",
    "    \n",
    "    # Obtaining the training and test subsets\n",
    "    X_train, X_test = X.values[train_index], X.values[test_index]\n",
    "    y_train, y_test = y[train_index], y[test_index]\n",
    "    \n",
    "    # Training the model\n",
    "    tree.fit(X_train, y_train)\n",
    "    \n",
    "    # Making the predictions\n",
    "    y_pred = tree.predict(X_test)\n",
    "\n",
    "    # Calculating the accuracy\n",
    "    acc = accuracy_score(y_test, y_pred)\n",
    "    \n",
    "    # Saving the result in the list\n",
    "    acc_list.append(acc)\n",
    "    \n",
    "# Calculating the mean of the results\n",
    "acc_loo = np.mean(acc_list)\n",
    "\n",
    "loo_performance_time = time.time() - loo_start_time\n",
    "print('Accuracy obtained:', acc_loo*100)\n",
    "print('Run Time:', loo_performance_time)"
   ]
  },
  {
   "cell_type": "markdown",
   "id": "incorporate-wellington",
   "metadata": {},
   "source": [
    "## Results"
   ]
  },
  {
   "cell_type": "code",
   "execution_count": 10,
   "id": "correct-joyce",
   "metadata": {
    "ExecuteTime": {
     "end_time": "2022-04-14T00:39:57.452799Z",
     "start_time": "2022-04-14T00:39:57.438799Z"
    }
   },
   "outputs": [
    {
     "data": {
      "text/html": [
       "<div>\n",
       "<style scoped>\n",
       "    .dataframe tbody tr th:only-of-type {\n",
       "        vertical-align: middle;\n",
       "    }\n",
       "\n",
       "    .dataframe tbody tr th {\n",
       "        vertical-align: top;\n",
       "    }\n",
       "\n",
       "    .dataframe thead th {\n",
       "        text-align: right;\n",
       "    }\n",
       "</style>\n",
       "<table border=\"1\" class=\"dataframe\">\n",
       "  <thead>\n",
       "    <tr style=\"text-align: right;\">\n",
       "      <th></th>\n",
       "      <th>Accuracy</th>\n",
       "      <th>Run Time [ms]</th>\n",
       "    </tr>\n",
       "  </thead>\n",
       "  <tbody>\n",
       "    <tr>\n",
       "      <th>Holdout CV</th>\n",
       "      <td>92.982456</td>\n",
       "      <td>0.009001</td>\n",
       "    </tr>\n",
       "    <tr>\n",
       "      <th>3-Fold CV</th>\n",
       "      <td>90.154089</td>\n",
       "      <td>0.014001</td>\n",
       "    </tr>\n",
       "    <tr>\n",
       "      <th>Leave-One-Out CV</th>\n",
       "      <td>91.564148</td>\n",
       "      <td>3.454892</td>\n",
       "    </tr>\n",
       "  </tbody>\n",
       "</table>\n",
       "</div>"
      ],
      "text/plain": [
       "                   Accuracy  Run Time [ms]\n",
       "Holdout CV        92.982456       0.009001\n",
       "3-Fold CV         90.154089       0.014001\n",
       "Leave-One-Out CV  91.564148       3.454892"
      ]
     },
     "execution_count": 10,
     "metadata": {},
     "output_type": "execute_result"
    }
   ],
   "source": [
    "res = {'Accuracy': [acc_holdout*100, acc_kfold*100, acc_loo*100], 'Run Time [ms]': [holdout_performance_time, kfold_performance_time, loo_performance_time]}\n",
    "\n",
    "df_res = pd.DataFrame(data = res, index = ['Holdout CV', '3-Fold CV', 'Leave-One-Out CV'])\n",
    "df_res"
   ]
  }
 ],
 "metadata": {
  "kernelspec": {
   "display_name": "Python 3",
   "language": "python",
   "name": "python3"
  },
  "language_info": {
   "codemirror_mode": {
    "name": "ipython",
    "version": 3
   },
   "file_extension": ".py",
   "mimetype": "text/x-python",
   "name": "python",
   "nbconvert_exporter": "python",
   "pygments_lexer": "ipython3",
   "version": "3.8.5"
  },
  "toc": {
   "base_numbering": 1,
   "nav_menu": {},
   "number_sections": true,
   "sideBar": true,
   "skip_h1_title": false,
   "title_cell": "Table of Contents",
   "title_sidebar": "Contents",
   "toc_cell": false,
   "toc_position": {},
   "toc_section_display": true,
   "toc_window_display": false
  }
 },
 "nbformat": 4,
 "nbformat_minor": 5
}
